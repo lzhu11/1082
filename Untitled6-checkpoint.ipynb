{
 "cells": [
  {
   "cell_type": "code",
   "execution_count": 1,
   "metadata": {},
   "outputs": [
    {
     "name": "stdout",
     "output_type": "stream",
     "text": [
      "請輸入第一個數字1\n",
      "請輸入第二個數字2\n",
      "1 < 2\n",
      "1 + 2 = 3\n",
      "第一個數字是 1 , 第二個數字是 2\n"
     ]
    }
   ],
   "source": [
    "class compare:\n",
    "    def __init__(self,num1,num2):\n",
    "        self.n1=num1\n",
    "        self.n2=num2\n",
    "    def big(self):\n",
    "        if num1>num2:\n",
    "            print(self.n1,\">\",self.n2)\n",
    "        elif num1==num2:\n",
    "            print(self.n1,\"=\",self.n2)\n",
    "        else:\n",
    "            print(self.n1,\"<\",self.n2)\n",
    "    def add(self):\n",
    "        print(num1,\"+\",num2,\"=\",int(num1)+int(num2))\n",
    "    def present(self):\n",
    "        print(\"第一個數字是\",num1,\",\",\"第二個數字是\",num2)\n",
    "num1=input(\"請輸入第一個數字\")\n",
    "num2=input(\"請輸入第二個數字\")\n",
    "number=compare(num1,num2)\n",
    "number.big()\n",
    "number.add()\n",
    "number.present()"
   ]
  },
  {
   "cell_type": "code",
   "execution_count": null,
   "metadata": {},
   "outputs": [],
   "source": []
  }
 ],
 "metadata": {
  "kernelspec": {
   "display_name": "Python 3",
   "language": "python",
   "name": "python3"
  },
  "language_info": {
   "codemirror_mode": {
    "name": "ipython",
    "version": 3
   },
   "file_extension": ".py",
   "mimetype": "text/x-python",
   "name": "python",
   "nbconvert_exporter": "python",
   "pygments_lexer": "ipython3",
   "version": "3.7.3"
  }
 },
 "nbformat": 4,
 "nbformat_minor": 4
}
